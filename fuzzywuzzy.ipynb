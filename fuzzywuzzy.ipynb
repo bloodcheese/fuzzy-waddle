{
  "cells": [
    {
      "cell_type": "markdown",
      "metadata": {
        "id": "ulo6Ie_cvM0q"
      },
      "source": [
        "### In this notebook, we will see the use of fuzzy string matching.\n",
        "Sometimes we see that we are trying to refer to the same thing in different ways because it is written differently or it is misspelled or we have typos. This problem often occurs in databases.So, lets see how we can fuzzy match strings."
      ]
    },
    {
      "cell_type": "markdown",
      "metadata": {
        "id": "Ohn3vTFOvM0s"
      },
      "source": [
        "When we usually compare strings in python like the below:"
      ]
    },
    {
      "cell_type": "code",
      "execution_count": 1,
      "metadata": {
        "colab": {
          "base_uri": "https://localhost:8080/"
        },
        "id": "j5Dqdm_BvM0t",
        "outputId": "41e47fb2-10a2-44ea-b57f-013e84d31fdb"
      },
      "outputs": [
        {
          "output_type": "stream",
          "name": "stdout",
          "text": [
            "True\n"
          ]
        }
      ],
      "source": [
        "str1 = \"fuzzy wuzzy\"\n",
        "str2 = \"fuzzy wuzzy\"\n",
        "Result = str1 == str2\n",
        "print(Result)"
      ]
    },
    {
      "cell_type": "markdown",
      "metadata": {
        "id": "OxpavMGWvM0u"
      },
      "source": [
        "Let's see what happens if any of the string changes"
      ]
    },
    {
      "cell_type": "code",
      "execution_count": 2,
      "metadata": {
        "colab": {
          "base_uri": "https://localhost:8080/"
        },
        "id": "ev6I2dx9vM0u",
        "outputId": "b8b91912-18fc-49fc-8ef6-7e5ccee1288f"
      },
      "outputs": [
        {
          "output_type": "stream",
          "name": "stdout",
          "text": [
            "False\n"
          ]
        }
      ],
      "source": [
        "str1 = \"Fuzzy wuzzy\"\n",
        "str2 = \"fuzzy wuzzy\"\n",
        "Result = str1 == str2\n",
        "print(Result)"
      ]
    },
    {
      "cell_type": "markdown",
      "metadata": {
        "id": "jS7LpREkvM0v"
      },
      "source": [
        "We got False even if both the strings mena the same company. So, if we convert both strings to lower case, we will solve the problem"
      ]
    },
    {
      "cell_type": "code",
      "execution_count": 3,
      "metadata": {
        "colab": {
          "base_uri": "https://localhost:8080/"
        },
        "id": "BATX__u4vM0v",
        "outputId": "625052aa-de88-4fc7-949c-7dab5e3b8696"
      },
      "outputs": [
        {
          "output_type": "stream",
          "name": "stdout",
          "text": [
            "True\n"
          ]
        }
      ],
      "source": [
        "str1 = \"Fuzzy wuzzy\"\n",
        "str2 = \"fuzzy wuzzy\"\n",
        "Result = str1.lower() == str2.lower()\n",
        "print(Result)"
      ]
    },
    {
      "cell_type": "markdown",
      "metadata": {
        "id": "YiXnlv4wvM0v"
      },
      "source": [
        "Problem comes when characters are missing from the strings. See below:"
      ]
    },
    {
      "cell_type": "code",
      "execution_count": 4,
      "metadata": {
        "colab": {
          "base_uri": "https://localhost:8080/"
        },
        "id": "zJr41iDwvM0v",
        "outputId": "d536e36f-a2e4-477f-fa33-e3f1283f737a"
      },
      "outputs": [
        {
          "output_type": "stream",
          "name": "stdout",
          "text": [
            "True\n"
          ]
        }
      ],
      "source": [
        "str1 = \"Fuzzy wuzzy\"\n",
        "str2 = \"fuzzy wuzzy\"\n",
        "Result = str1.lower() == str2.lower()\n",
        "print(Result)"
      ]
    },
    {
      "cell_type": "markdown",
      "metadata": {
        "id": "N8Uv6KLVvM0w"
      },
      "source": [
        "These type of problems often occur in databases and we therefore need strong tools to compare strings. One such tools is 'Levenshtein distance'."
      ]
    },
    {
      "cell_type": "markdown",
      "metadata": {
        "id": "tfTfaVFGvM0w"
      },
      "source": [
        "### Levenshtein Distance\n",
        "It is a metric used to measure distance between two strings meaning how apart are two sequence of words. It measures the minimum number of edits that should be done to change a one-word sequence to the other.The edits can be insertion, deletion or substitutions."
      ]
    },
    {
      "cell_type": "code",
      "execution_count": 5,
      "metadata": {
        "id": "OtxNpS_vvM0w"
      },
      "outputs": [],
      "source": [
        "import numpy as np\n",
        "def levenshtein_ratio_and_distance(s, t, ratio_calc = False):\n",
        "    \"\"\" levenshtein_ratio_and_distance:\n",
        "        Calculates levenshtein distance between two strings.\n",
        "        If ratio_calc = True, the function computes the\n",
        "        levenshtein distance ratio of similarity between two strings\n",
        "        For all i and j, distance[i,j] will contain the Levenshtein\n",
        "        distance between the first i characters of s and the\n",
        "        first j characters of t\n",
        "    \"\"\"\n",
        "    # Initialize matrix of zeros\n",
        "    rows = len(s)+1\n",
        "    cols = len(t)+1\n",
        "    distance = np.zeros((rows,cols),dtype = int)\n",
        "\n",
        "    # Populate matrix of zeros with the indeces of each character of both strings\n",
        "    for i in range(1, rows):\n",
        "        for k in range(1,cols):\n",
        "            distance[i][0] = i\n",
        "            distance[0][k] = k\n",
        "\n",
        "    # Iterate over the matrix to compute the cost of deletions,insertions and/or substitutions\n",
        "    for col in range(1, cols):\n",
        "        for row in range(1, rows):\n",
        "            if s[row-1] == t[col-1]:\n",
        "                cost = 0 # If the characters are the same in the two strings in a given position [i,j] then the cost is 0\n",
        "            else:\n",
        "                # In order to align the results with those of the Python Levenshtein package, if we choose to calculate the ratio\n",
        "                # the cost of a substitution is 2. If we calculate just distance, then the cost of a substitution is 1.\n",
        "                if ratio_calc == True:\n",
        "                    cost = 2\n",
        "                else:\n",
        "                    cost = 1\n",
        "            distance[row][col] = min(distance[row-1][col] + 1,      # Cost of deletions\n",
        "                                 distance[row][col-1] + 1,          # Cost of insertions\n",
        "                                 distance[row-1][col-1] + cost)     # Cost of substitutions\n",
        "    if ratio_calc == True:\n",
        "        # Computation of the Levenshtein Distance Ratio\n",
        "        Ratio = ((len(s)+len(t)) - distance[row][col]) / (len(s)+len(t))\n",
        "        return Ratio\n",
        "    else:\n",
        "        # print(distance) # Uncomment if you want to see the matrix showing how the algorithm computes the cost of deletions,\n",
        "        # insertions and/or substitutions\n",
        "        # This is the minimum number of edits needed to convert string a to string b\n",
        "        return \"The strings are {} edits away\".format(distance[row][col])"
      ]
    },
    {
      "cell_type": "code",
      "execution_count": 6,
      "metadata": {
        "colab": {
          "base_uri": "https://localhost:8080/"
        },
        "id": "v2i8zkrwvM0x",
        "outputId": "4addea12-be82-4b60-db65-21476d3357b9"
      },
      "outputs": [
        {
          "output_type": "stream",
          "name": "stdout",
          "text": [
            "The strings are 2 edits away\n",
            "0.8695652173913043\n"
          ]
        }
      ],
      "source": [
        "str1 = \"Fuzzy wuzzy.\"\n",
        "str2 = \"fuzzy wuzzy\"\n",
        "Distance = levenshtein_ratio_and_distance(str1,str2)\n",
        "print(Distance)\n",
        "Ratio = levenshtein_ratio_and_distance(str1,str2,ratio_calc = True)\n",
        "print(Ratio)"
      ]
    },
    {
      "cell_type": "markdown",
      "metadata": {
        "id": "nZ8ubRswvM0x"
      },
      "source": [
        "If you do very simple string preprocessing before calculating distance we will see that the output changes."
      ]
    },
    {
      "cell_type": "code",
      "execution_count": 7,
      "metadata": {
        "colab": {
          "base_uri": "https://localhost:8080/"
        },
        "id": "xmnWTQTavM0x",
        "outputId": "2b13da02-842c-4de5-f14b-caca2143cc30"
      },
      "outputs": [
        {
          "output_type": "stream",
          "name": "stdout",
          "text": [
            "The strings are 1 edits away\n",
            "0.9565217391304348\n"
          ]
        }
      ],
      "source": [
        "str1 = \"fuzzy wuzzy.\"\n",
        "str2 = \"fuzzy wuzzy\"\n",
        "Distance = levenshtein_ratio_and_distance(str1.lower(),str2.lower())\n",
        "print(Distance)\n",
        "Ratio = levenshtein_ratio_and_distance(str1,str2,ratio_calc = True)\n",
        "print(Ratio)"
      ]
    },
    {
      "cell_type": "markdown",
      "metadata": {
        "id": "2mF91se8vM0y"
      },
      "source": [
        "We see that, the distance has been reduced by 1 simply because the strings have been turned to lower case before comparing and hence, the similarity ratio reaches almost 95%. This emphasizes the relevance of string preprocessing before performing calculations. If we were, say, choosing if a string is similar to another one based on a similarity threshold of 90%, then \"Apple Inc.\" and \"apple Inc\" without preprocessing would be marked as not similar.\n",
        "Lets try to use the levenshtein package in python"
      ]
    },
    {
      "cell_type": "code",
      "source": [
        "pip install Levenshtein"
      ],
      "metadata": {
        "colab": {
          "base_uri": "https://localhost:8080/"
        },
        "id": "PtaSo2tUwV8K",
        "outputId": "c103c7bb-47b0-495a-ffd3-38c3daf2d77f"
      },
      "execution_count": 10,
      "outputs": [
        {
          "output_type": "stream",
          "name": "stdout",
          "text": [
            "Collecting Levenshtein\n",
            "  Downloading Levenshtein-0.21.1-cp310-cp310-manylinux_2_17_x86_64.manylinux2014_x86_64.whl (172 kB)\n",
            "\u001b[2K     \u001b[90m━━━━━━━━━━━━━━━━━━━━━━━━━━━━━━━━━━━━━━━\u001b[0m \u001b[32m172.5/172.5 kB\u001b[0m \u001b[31m3.4 MB/s\u001b[0m eta \u001b[36m0:00:00\u001b[0m\n",
            "\u001b[?25hCollecting rapidfuzz<4.0.0,>=2.3.0 (from Levenshtein)\n",
            "  Downloading rapidfuzz-3.2.0-cp310-cp310-manylinux_2_17_x86_64.manylinux2014_x86_64.whl (3.1 MB)\n",
            "\u001b[2K     \u001b[90m━━━━━━━━━━━━━━━━━━━━━━━━━━━━━━━━━━━━━━━━\u001b[0m \u001b[32m3.1/3.1 MB\u001b[0m \u001b[31m12.4 MB/s\u001b[0m eta \u001b[36m0:00:00\u001b[0m\n",
            "\u001b[?25hInstalling collected packages: rapidfuzz, Levenshtein\n",
            "Successfully installed Levenshtein-0.21.1 rapidfuzz-3.2.0\n"
          ]
        }
      ]
    },
    {
      "cell_type": "code",
      "execution_count": 11,
      "metadata": {
        "colab": {
          "base_uri": "https://localhost:8080/"
        },
        "id": "mRUBpWD4vM0y",
        "outputId": "5e4f5dbb-7381-4112-fdab-328995e52e42"
      },
      "outputs": [
        {
          "output_type": "stream",
          "name": "stdout",
          "text": [
            "(1,)\n",
            "0.9565217391304348\n"
          ]
        }
      ],
      "source": [
        "import Levenshtein as lev\n",
        "str1 = \"fuzzy wuzzy.\"\n",
        "str2 = \"fuzzy Wuzzy\"\n",
        "Distance = lev.distance(str1.lower(),str2.lower()),\n",
        "print(Distance)\n",
        "Ratio = lev.ratio(str1.lower(),str2.lower())\n",
        "print(Ratio)"
      ]
    },
    {
      "cell_type": "markdown",
      "metadata": {
        "id": "HMOVk7f6vM0y"
      },
      "source": [
        "### Lets explore FuzzyWuzzy package\n",
        "This package in python is very useful when the levenshtein distance ratio of similarity between two strings falls short. Our examples were very simple where we had difference in cases (lower/upper) and periods. But what happens when something is spelled out of order?\n",
        "What happens when has a lot of variation in spelling but it still refers to the same thing?\n",
        "FuzzyWuzzy package is to the rescue because it has functions that allow our fuzzy matching scripts to handle these sorts of cases.\n",
        "\n",
        "FuzzyWuzzy has, just like the Levenshtein package, a ratio function that computes the standard Levenshtein distance similarity ratio between two sequences."
      ]
    },
    {
      "cell_type": "code",
      "source": [
        "pip install fuzzywuzzy"
      ],
      "metadata": {
        "colab": {
          "base_uri": "https://localhost:8080/"
        },
        "id": "jkJtBLyWwx_Q",
        "outputId": "603c2352-9da1-45f3-b120-ff2b4818b6ff"
      },
      "execution_count": 13,
      "outputs": [
        {
          "output_type": "stream",
          "name": "stdout",
          "text": [
            "Collecting fuzzywuzzy\n",
            "  Downloading fuzzywuzzy-0.18.0-py2.py3-none-any.whl (18 kB)\n",
            "Installing collected packages: fuzzywuzzy\n",
            "Successfully installed fuzzywuzzy-0.18.0\n"
          ]
        }
      ]
    },
    {
      "cell_type": "code",
      "execution_count": 14,
      "metadata": {
        "colab": {
          "base_uri": "https://localhost:8080/"
        },
        "id": "8AMLBuBwvM0y",
        "outputId": "a0e0f39a-7a7e-4437-8690-2f1684867f69"
      },
      "outputs": [
        {
          "output_type": "stream",
          "name": "stdout",
          "text": [
            "96\n"
          ]
        }
      ],
      "source": [
        "from fuzzywuzzy import fuzz\n",
        "str1 = \"fuzzy Wuzzy.\"\n",
        "str2 = \"fuzzy wuzzy\"\n",
        "Ratio = fuzz.ratio(str1.lower(),str2.lower())\n",
        "print(Ratio)"
      ]
    },
    {
      "cell_type": "markdown",
      "metadata": {
        "id": "B0TMZCO6vM0z"
      },
      "source": [
        "This is more like we saw in the above examples. FuzzyWuzzy has more powerful functions that allow us to deal with more complex situations such as substring matching. See below:"
      ]
    },
    {
      "cell_type": "code",
      "execution_count": 15,
      "metadata": {
        "colab": {
          "base_uri": "https://localhost:8080/"
        },
        "id": "VNNKo6qQvM0z",
        "outputId": "0ffaf93a-37ec-4ddb-e1f9-d577511d7d07"
      },
      "outputs": [
        {
          "output_type": "stream",
          "name": "stdout",
          "text": [
            "48\n",
            "100\n"
          ]
        }
      ],
      "source": [
        "str1 = \"Seattle Park Riders\"\n",
        "str2 = \"Riders\"\n",
        "Ratio = fuzz.ratio(str1.lower(),str2.lower())\n",
        "Partial_Ratio = fuzz.partial_ratio(str1.lower(),str2.lower())\n",
        "print(Ratio)\n",
        "print(Partial_Ratio)"
      ]
    },
    {
      "cell_type": "markdown",
      "metadata": {
        "id": "KBZpSyOkvM00"
      },
      "source": [
        "Using the fuzz.partial_ratio() function, we are able to detect that both strings are referring to the Riders. Thus, we see 100% similarity. This works using an \"optimal partial\" logic. So, what happens is if the short string has length k and the longer string has the length m, then the algorithm seeks the score of the best matching length-k substring."
      ]
    },
    {
      "cell_type": "markdown",
      "metadata": {
        "id": "P2SFIaYPvM01"
      },
      "source": [
        "This approach is not foolproof. What happens when the strings comparison is the same, but they are in a different order? Fuzzywuzzy is useful here:"
      ]
    },
    {
      "cell_type": "code",
      "execution_count": 16,
      "metadata": {
        "colab": {
          "base_uri": "https://localhost:8080/"
        },
        "id": "AUiKVzsevM01",
        "outputId": "700c08ad-da25-480a-fd83-39d28448e8c0"
      },
      "outputs": [
        {
          "output_type": "stream",
          "name": "stdout",
          "text": [
            "70\n",
            "70\n",
            "100\n"
          ]
        }
      ],
      "source": [
        "str1 = \"India vs New Zealand World Cup\"\n",
        "str2 = \"New Zealand World Cup vs India\"\n",
        "Ratio = fuzz.ratio(str1.lower(),str2.lower())\n",
        "Partial_Ratio = fuzz.partial_ratio(str1.lower(),str2.lower())\n",
        "Token_Sort_Ratio = fuzz.token_sort_ratio(str1,str2)\n",
        "print(Ratio)\n",
        "print(Partial_Ratio)\n",
        "print(Token_Sort_Ratio)"
      ]
    },
    {
      "cell_type": "markdown",
      "metadata": {
        "id": "yoqTRDD5vM01"
      },
      "source": [
        "In the function token_sort_ratio(), the string tokens get sorted alphabetically and then joined together. After that, a simple fuzz.ratio() is applied to obtain the similarity percentage. This allows us to judge if the strings are actually the same."
      ]
    },
    {
      "cell_type": "markdown",
      "metadata": {
        "id": "9X5R-OntvM01"
      },
      "source": [
        "Now, the question is what happens if these two strings are of widely differing lengths? Thats where fuzz.token_set_ratio() comes in. See below example:"
      ]
    },
    {
      "cell_type": "code",
      "execution_count": 17,
      "metadata": {
        "colab": {
          "base_uri": "https://localhost:8080/"
        },
        "id": "RIp3CVaHvM01",
        "outputId": "7618d0b5-3788-4c53-c761-69c3757e8ef8"
      },
      "outputs": [
        {
          "output_type": "stream",
          "name": "stdout",
          "text": [
            "62\n",
            "84\n",
            "62\n",
            "100\n"
          ]
        }
      ],
      "source": [
        "str1 = \"The supreme court case of Facebook vs The United States\"\n",
        "str2 = \"Facebook vs United States\"\n",
        "Ratio = fuzz.ratio(str1.lower(),str2.lower())\n",
        "Partial_Ratio = fuzz.partial_ratio(str1.lower(),str2.lower())\n",
        "Token_Sort_Ratio = fuzz.token_sort_ratio(str1,str2)\n",
        "Token_Set_Ratio = fuzz.token_set_ratio(str1,str2)\n",
        "print(Ratio)\n",
        "print(Partial_Ratio)\n",
        "print(Token_Sort_Ratio)\n",
        "print(Token_Set_Ratio)"
      ]
    },
    {
      "cell_type": "markdown",
      "metadata": {
        "id": "rDyudHjLvM01"
      },
      "source": [
        "So, here in the above scenario, instead of just tokenizing the strings, sorting and then joining the tokens back together, token_set_ratio performs a set operation that takes out the common tokens (the intersection) and then makes fuzz.ratio() pairwise comparisons between the following new strings:\n",
        "\n",
        "s1 = Sorted_tokens_in_intersection\n",
        "s2 = Sorted_tokens_in_intersection + sorted_rest_of_str1_tokens\n",
        "s3 = Sorted_tokens_in_intersection + sorted_rest_of_str2_tokens"
      ]
    },
    {
      "cell_type": "markdown",
      "metadata": {
        "id": "4QoryP3LvM01"
      },
      "source": [
        "Finally, the fuzzywuzzy package has a module called process that allows you to calculate the string with the highest similarity out of a vector of strings.\n",
        "\n"
      ]
    },
    {
      "cell_type": "code",
      "execution_count": 18,
      "metadata": {
        "colab": {
          "base_uri": "https://localhost:8080/"
        },
        "id": "wtgvqqxHvM01",
        "outputId": "3f686ab2-a0db-4f65-d39c-35533012cd97"
      },
      "outputs": [
        {
          "output_type": "stream",
          "name": "stdout",
          "text": [
            "[('fuzzy Wuzzy.', 100), ('fuzz', 90), ('Fuzzy incorporated', 86), ('Fuzzy park', 64)]\n",
            "('fuzzy Wuzzy.', 100)\n"
          ]
        }
      ],
      "source": [
        "from fuzzywuzzy import process\n",
        "str2Match = \"fuzzy wuzzy\"\n",
        "strOptions = [\"fuzzy Wuzzy.\",\"Fuzzy park\",\"Fuzzy incorporated\",\"fuzz\"]\n",
        "Ratios = process.extract(str2Match,strOptions)\n",
        "print(Ratios)\n",
        "# You can also select the string with the highest matching percentage\n",
        "highest = process.extractOne(str2Match,strOptions)\n",
        "print(highest)"
      ]
    }
  ],
  "metadata": {
    "kernelspec": {
      "display_name": "Python 3",
      "language": "python",
      "name": "python3"
    },
    "language_info": {
      "codemirror_mode": {
        "name": "ipython",
        "version": 3
      },
      "file_extension": ".py",
      "mimetype": "text/x-python",
      "name": "python",
      "nbconvert_exporter": "python",
      "pygments_lexer": "ipython3",
      "version": "3.6.8"
    },
    "colab": {
      "provenance": []
    }
  },
  "nbformat": 4,
  "nbformat_minor": 0
}
